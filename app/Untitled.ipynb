{
 "cells": [
  {
   "cell_type": "code",
   "execution_count": 2,
   "metadata": {
    "collapsed": true
   },
   "outputs": [],
   "source": [
    "from collections import namedtuple\n",
    "import csv\n",
    "Bigrecord = namedtuple(\"Bigrecord\", \"make model level1 level2 level3 testresult count\")\n",
    "def make_record_level2(line):\n",
    "    (make, model, level1, level2, level3, testresult, count) = line\n",
    "    return Bigrecord(make, model, level1, level2, level3, testresult, int(count))\n",
    "\n",
    "with open(\"static/WholeData.csv\") as fd1:\n",
    "    records1 = list(csv.reader(fd1))\n",
    "    records1 = records1[1:]\n",
    "    records1 = [make_record_level2(r) for r in records1]"
   ]
  },
  {
   "cell_type": "code",
   "execution_count": 18,
   "metadata": {
    "collapsed": false
   },
   "outputs": [],
   "source": [
    "m = {}\n",
    "\n",
    "for r in records1:\n",
    "    m.setdefault(r.make, {}).setdefault(r.model, []).append((r.level1, r.level2, r.count))"
   ]
  },
  {
   "cell_type": "code",
   "execution_count": null,
   "metadata": {
    "collapsed": true
   },
   "outputs": [],
   "source": []
  }
 ],
 "metadata": {
  "kernelspec": {
   "display_name": "Python 3",
   "language": "python",
   "name": "python3"
  },
  "language_info": {
   "codemirror_mode": {
    "name": "ipython",
    "version": 3
   },
   "file_extension": ".py",
   "mimetype": "text/x-python",
   "name": "python",
   "nbconvert_exporter": "python",
   "pygments_lexer": "ipython3",
   "version": "3.4.3"
  }
 },
 "nbformat": 4,
 "nbformat_minor": 0
}
